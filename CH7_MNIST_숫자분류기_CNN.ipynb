{
  "nbformat": 4,
  "nbformat_minor": 0,
  "metadata": {
    "colab": {
      "provenance": [],
      "authorship_tag": "ABX9TyPEnWDjH7a8vCO1wJL+NVcx",
      "include_colab_link": true
    },
    "kernelspec": {
      "name": "python3",
      "display_name": "Python 3"
    },
    "language_info": {
      "name": "python"
    }
  },
  "cells": [
    {
      "cell_type": "markdown",
      "metadata": {
        "id": "view-in-github",
        "colab_type": "text"
      },
      "source": [
        "<a href=\"https://colab.research.google.com/github/wooheehee/deeplearning-practice/blob/main/CH7_MNIST_%EC%88%AB%EC%9E%90%EB%B6%84%EB%A5%98%EA%B8%B0_CNN.ipynb\" target=\"_parent\"><img src=\"https://colab.research.google.com/assets/colab-badge.svg\" alt=\"Open In Colab\"/></a>"
      ]
    },
    {
      "cell_type": "code",
      "execution_count": 1,
      "metadata": {
        "id": "uktZYY3Prdq-"
      },
      "outputs": [],
      "source": [
        "import tensorflow as tf"
      ]
    },
    {
      "cell_type": "code",
      "source": [
        "(x_train, y_train), (x_test, y_test) = tf.keras.datasets.mnist.load_data()\n",
        "x_train, x_test = x_train.astype('float32'), x_test.astype('float32')\n",
        "x_train, x_test = x_train.reshape([-1, 784]), x_test.reshape([-1, 784])\n",
        "x_train, x_test = x_train / 255., x_test / 255.\n",
        "y_train, y_test = tf.one_hot(y_train, depth=10), tf.one_hot(y_test, depth=10)"
      ],
      "metadata": {
        "id": "4b5wr23Nwg1w"
      },
      "execution_count": 2,
      "outputs": []
    },
    {
      "cell_type": "code",
      "source": [
        "train_data = tf.data.Dataset.from_tensor_slices((x_train, y_train))\n",
        "train_data = train_data.repeat().shuffle(60000).batch(50)\n",
        "train_data_iter = iter(train_data)"
      ],
      "metadata": {
        "id": "2R0JZ90fxU2j"
      },
      "execution_count": 3,
      "outputs": []
    },
    {
      "cell_type": "code",
      "source": [
        "class CNN(tf.keras.Model):\n",
        "  def __init__(self):\n",
        "    super(CNN, self).__init__()\n",
        "\n",
        "    self.conv_layer_1 = tf.keras.layers.Conv2D(filters=32, kernel_size=5, strides=1, padding='same', activation='relu')\n",
        "    self.pool_layer_1 = tf.keras.layers.MaxPool2D(pool_size=(2, 2), strides=2)\n",
        "\n",
        "    self.conv_layer_2 = tf.keras.layers.Conv2D(filters=64, kernel_size=5, strides=1, padding='same', activation='relu')\n",
        "    self.pool_layer_2 = tf.keras.layers.MaxPool2D(pool_size=(2, 2), strides=2)\n",
        "\n",
        "    self.flatten_layer = tf.keras.layers.Flatten()\n",
        "    self.fc_layer_1 = tf.keras.layers.Dense(1024, activation='relu')\n",
        "\n",
        "    self.output_layer = tf.keras.layers.Dense(10, activation=None)\n",
        "\n",
        "  def call(self, x):\n",
        "    x_image = tf.reshape(x, [-1, 28, 28, 1])\n",
        "    h_conv1 = self.conv_layer_1(x_image)\n",
        "    h_pool1 = self.pool_layer_1(h_conv1)\n",
        "    h_conv2 = self.conv_layer_2(h_pool1)\n",
        "    h_pool2 = self.pool_layer_2(h_conv2)\n",
        "    h_pool2_flat = self.flatten_layer(h_pool2)\n",
        "    h_fc1 = self.fc_layer_1(h_pool2_flat)\n",
        "    logits = self.output_layer(h_fc1)\n",
        "    y_pred = tf.nn.softmax(logits)\n",
        "\n",
        "    return y_pred, logits"
      ],
      "metadata": {
        "id": "LmIuuEE8yJOy"
      },
      "execution_count": 4,
      "outputs": []
    },
    {
      "cell_type": "code",
      "source": [
        "@tf.function\n",
        "def cross_entropy_loss(logits, y):\n",
        "  return tf.reduce_mean(tf.nn.softmax_cross_entropy_with_logits(logits=logits, labels=y))"
      ],
      "metadata": {
        "id": "JwBykqFA3CyD"
      },
      "execution_count": 5,
      "outputs": []
    },
    {
      "cell_type": "code",
      "source": [
        "optimizer = tf.optimizers.Adam(1e-4)"
      ],
      "metadata": {
        "id": "UbZdLnbO3Qm8"
      },
      "execution_count": 6,
      "outputs": []
    },
    {
      "cell_type": "code",
      "source": [
        "@tf.function\n",
        "def train_step(model, x, y):\n",
        "  with tf.GradientTape() as tape:\n",
        "    y_pred, logits = model(x)\n",
        "    loss = cross_entropy_loss(logits, y)\n",
        "  gradients = tape.gradient(loss, model.trainable_variables)\n",
        "  optimizer.apply_gradients(zip(gradients, model.trainable_variables))"
      ],
      "metadata": {
        "id": "PBeXxDby7d1w"
      },
      "execution_count": 10,
      "outputs": []
    },
    {
      "cell_type": "code",
      "source": [
        "@tf.function \n",
        "def compute_accuracy(y_pred, y):\n",
        "  correct_prediction = tf.equal(tf.argmax(y_pred, 1), tf.argmax(y, 1))\n",
        "  accuracy = tf.reduce_mean(tf.cast(correct_prediction, tf.float32))\n",
        "\n",
        "  return accuracy"
      ],
      "metadata": {
        "id": "nvZ8Exf53Wko"
      },
      "execution_count": 7,
      "outputs": []
    },
    {
      "cell_type": "code",
      "source": [
        "CNN_model = CNN()"
      ],
      "metadata": {
        "id": "q_QeNti-4ZMy"
      },
      "execution_count": 8,
      "outputs": []
    },
    {
      "cell_type": "code",
      "source": [
        "for i in range(1000):\n",
        "  batch_x, batch_y = next(train_data_iter)\n",
        "  if i % 100 == 0:\n",
        "    train_accuracy = compute_accuracy(CNN_model(batch_x)[0], batch_y)\n",
        "    print(\"반복(Epoch): %d, 트레이닝 데이터 정확도: %f\" % (i, train_accuracy))\n",
        "  train_step(CNN_model, batch_x, batch_y)"
      ],
      "metadata": {
        "colab": {
          "base_uri": "https://localhost:8080/"
        },
        "id": "-Ty6cHAd4bmB",
        "outputId": "33cab7ae-6cc5-471b-b6b7-fea93da2f9c7"
      },
      "execution_count": 12,
      "outputs": [
        {
          "output_type": "stream",
          "name": "stdout",
          "text": [
            "반복(Epoch): 0, 트레이닝 데이터 정확도: 0.940000\n",
            "반복(Epoch): 100, 트레이닝 데이터 정확도: 0.980000\n",
            "반복(Epoch): 200, 트레이닝 데이터 정확도: 0.940000\n",
            "반복(Epoch): 300, 트레이닝 데이터 정확도: 0.980000\n",
            "반복(Epoch): 400, 트레이닝 데이터 정확도: 0.940000\n",
            "반복(Epoch): 500, 트레이닝 데이터 정확도: 0.980000\n",
            "반복(Epoch): 600, 트레이닝 데이터 정확도: 0.980000\n",
            "반복(Epoch): 700, 트레이닝 데이터 정확도: 0.960000\n",
            "반복(Epoch): 800, 트레이닝 데이터 정확도: 0.940000\n",
            "반복(Epoch): 900, 트레이닝 데이터 정확도: 0.920000\n"
          ]
        }
      ]
    },
    {
      "cell_type": "code",
      "source": [
        "print(\"정확도(Accuracy): %f\" % compute_accuracy(CNN_model(x_test)[0], y_test))"
      ],
      "metadata": {
        "colab": {
          "base_uri": "https://localhost:8080/"
        },
        "id": "oxSKIiGe8sYR",
        "outputId": "53d0ea18-b4cd-4680-ef94-2012b8ae4ed2"
      },
      "execution_count": 13,
      "outputs": [
        {
          "output_type": "stream",
          "name": "stdout",
          "text": [
            "정확도(Accuracy): 0.971500\n"
          ]
        }
      ]
    }
  ]
}