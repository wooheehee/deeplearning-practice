{
  "nbformat": 4,
  "nbformat_minor": 0,
  "metadata": {
    "colab": {
      "provenance": [],
      "authorship_tag": "ABX9TyM3tX9kMQboRlGInImKHC6l",
      "include_colab_link": true
    },
    "kernelspec": {
      "name": "python3",
      "display_name": "Python 3"
    },
    "language_info": {
      "name": "python"
    }
  },
  "cells": [
    {
      "cell_type": "markdown",
      "metadata": {
        "id": "view-in-github",
        "colab_type": "text"
      },
      "source": [
        "<a href=\"https://colab.research.google.com/github/wooheehee/deeplearning-practice/blob/main/CH4_2_MNIST_%EC%88%AB%EC%9E%90%EB%B6%84%EB%A5%98%EA%B8%B0_ANN.ipynb\" target=\"_parent\"><img src=\"https://colab.research.google.com/assets/colab-badge.svg\" alt=\"Open In Colab\"/></a>"
      ]
    },
    {
      "cell_type": "code",
      "execution_count": 1,
      "metadata": {
        "colab": {
          "base_uri": "https://localhost:8080/"
        },
        "id": "Hw0d3gcfSXFy",
        "outputId": "acde9325-0ac5-47b7-d0f7-502045ca29c1"
      },
      "outputs": [
        {
          "output_type": "stream",
          "name": "stdout",
          "text": [
            "Downloading data from https://storage.googleapis.com/tensorflow/tf-keras-datasets/mnist.npz\n",
            "11490434/11490434 [==============================] - 0s 0us/step\n"
          ]
        }
      ],
      "source": [
        "import tensorflow as tf\n",
        "\n",
        "(x_train, y_train), (x_test, y_test) = tf.keras.datasets.mnist.load_data()\n",
        "x_train, x_test = x_train.astype('float32'), x_test.astype('float32')\n",
        "x_train, x_test = x_train.reshape([-1,784]), x_test.reshape([-1,784])\n",
        "x_train, x_test = x_train / 255., x_test / 255.\n",
        "y_train, y_test = tf.one_hot(y_train, depth=10), tf.one_hot(y_test, depth=10)"
      ]
    },
    {
      "cell_type": "code",
      "source": [
        "learning_rate = 0.001\n",
        "num_epochs = 30\n",
        "batch_size = 256\n",
        "display_step = 1\n",
        "input_size = 784\n",
        "hidden1_size = 256\n",
        "hidden2_size = 256\n",
        "output_size = 10"
      ],
      "metadata": {
        "id": "f4R1axZug-zY"
      },
      "execution_count": 2,
      "outputs": []
    },
    {
      "cell_type": "code",
      "source": [
        "train_data = tf.data.Dataset.from_tensor_slices((x_train, y_train))\n",
        "train_data = train_data.shuffle(60000).batch(batch_size)"
      ],
      "metadata": {
        "id": "ban9tlr0hfk2"
      },
      "execution_count": 4,
      "outputs": []
    },
    {
      "cell_type": "code",
      "source": [
        "def random_normal_initializer_with_stddev_1():\n",
        "  return tf.keras.initializers.RandomNormal(mean=0.0, stddev=1.0, seed=None)"
      ],
      "metadata": {
        "id": "nHprD9Dsh42O"
      },
      "execution_count": 14,
      "outputs": []
    },
    {
      "cell_type": "code",
      "source": [
        "class ANN(tf.keras.Model):\n",
        "  def __init__(self):\n",
        "    super(ANN, self).__init__()\n",
        "    self.hidden_layer_1 = tf.keras.layers.Dense(hidden1_size,\n",
        "                                                activation='relu',\n",
        "                                                kernel_initializer=random_normal_initializer_with_stddev_1(),\n",
        "                                                bias_initializer=random_normal_initializer_with_stddev_1())\n",
        "    self.hidden_layer_2 = tf.keras.layers.Dense(hidden2_size,\n",
        "                                                activation='relu',\n",
        "                                                kernel_initializer=random_normal_initializer_with_stddev_1(),\n",
        "                                                bias_initializer=random_normal_initializer_with_stddev_1())\n",
        "    self.output_layer = tf.keras.layers.Dense(output_size,\n",
        "                                              activation=None,\n",
        "                                              kernel_initializer=random_normal_initializer_with_stddev_1(),\n",
        "                                              bias_initializer=random_normal_initializer_with_stddev_1())\n",
        "    \n",
        "  def call(self, x):\n",
        "    H1_output = self.hidden_layer_1(x)\n",
        "    H2_output = self.hidden_layer_2(H1_output)\n",
        "    logits = self.output_layer(H2_output)\n",
        "\n",
        "    return logits"
      ],
      "metadata": {
        "id": "mGBuov3rjWJr"
      },
      "execution_count": 15,
      "outputs": []
    },
    {
      "cell_type": "code",
      "source": [
        "@tf.function\n",
        "def cross_entropy_loss(logits, y):\n",
        "  return tf.reduce_mean(tf.nn.softmax_cross_entropy_with_logits(logits=logits, labels=y))"
      ],
      "metadata": {
        "id": "q0QUq4YOnVf-"
      },
      "execution_count": 8,
      "outputs": []
    },
    {
      "cell_type": "code",
      "source": [
        "optimizer = tf.optimizers.Adam(learning_rate)"
      ],
      "metadata": {
        "id": "-neyG5pYp4oV"
      },
      "execution_count": 9,
      "outputs": []
    },
    {
      "cell_type": "code",
      "source": [
        "@tf.function\n",
        "def train_step(model, x, y):\n",
        "  with tf.GradientTape() as tape:\n",
        "    y_pred = model(x)\n",
        "    loss = cross_entropy_loss(y_pred, y)\n",
        "  gradients = tape.gradient(loss, model.trainable_variables)\n",
        "  optimizer.apply_gradients(zip(gradients, model.trainable_variables))"
      ],
      "metadata": {
        "id": "wu0oXXLuqDRr"
      },
      "execution_count": 11,
      "outputs": []
    },
    {
      "cell_type": "code",
      "source": [
        "@tf.function\n",
        "def compute_accuracy(y_pred, y):\n",
        "  correct_prediction = tf.equal(tf.argmax(y_pred,1), tf.argmax(y,1))\n",
        "  accuracy = tf.reduce_mean(tf.cast(correct_prediction, tf.float32))\n",
        "\n",
        "  return accuracy"
      ],
      "metadata": {
        "id": "F94IVj4Wr1TK"
      },
      "execution_count": 12,
      "outputs": []
    },
    {
      "cell_type": "code",
      "source": [
        "ANN_model = ANN()"
      ],
      "metadata": {
        "id": "ZkHofteAsUzb"
      },
      "execution_count": 16,
      "outputs": []
    },
    {
      "cell_type": "code",
      "source": [
        "for epoch in range(num_epochs):\n",
        "  average_loss = 0.\n",
        "  total_batch = int(x_train.shape[0] / batch_size)\n",
        "\n",
        "  for batch_x, batch_y in train_data:\n",
        "    _, current_loss = train_step(ANN_model, batch_x, batch_y), cross_entropy_loss(ANN_model(batch_x), batch_y)\n",
        "    average_loss += current_loss / total_batch\n",
        "\n",
        "  if epoch % display_step == 0:\n",
        "    print(\"반복(Epoch): %d, 손실 함수(Loss): %f\" % ((epoch+1), average_loss))\n",
        "\n",
        "  print(\"정확도(Accuracy): %f\" % compute_accuracy(ANN_model(x_test), y_test))"
      ],
      "metadata": {
        "colab": {
          "base_uri": "https://localhost:8080/"
        },
        "id": "YgTAPJvAsWhJ",
        "outputId": "b2c14e26-83bb-465e-bb00-c6080e93e263"
      },
      "execution_count": 18,
      "outputs": [
        {
          "output_type": "stream",
          "name": "stdout",
          "text": [
            "반복(Epoch): 1, 손실 함수(Loss): 2.663569\n",
            "정확도(Accuracy): 0.939000\n",
            "반복(Epoch): 2, 손실 함수(Loss): 2.139293\n",
            "정확도(Accuracy): 0.940800\n",
            "반복(Epoch): 3, 손실 함수(Loss): 1.650359\n",
            "정확도(Accuracy): 0.941500\n",
            "반복(Epoch): 4, 손실 함수(Loss): 1.312376\n",
            "정확도(Accuracy): 0.940300\n",
            "반복(Epoch): 5, 손실 함수(Loss): 1.040895\n",
            "정확도(Accuracy): 0.939700\n",
            "반복(Epoch): 6, 손실 함수(Loss): 0.817604\n",
            "정확도(Accuracy): 0.941000\n",
            "반복(Epoch): 7, 손실 함수(Loss): 0.602507\n",
            "정확도(Accuracy): 0.942300\n",
            "반복(Epoch): 8, 손실 함수(Loss): 0.456033\n",
            "정확도(Accuracy): 0.942800\n",
            "반복(Epoch): 9, 손실 함수(Loss): 0.370694\n",
            "정확도(Accuracy): 0.942800\n",
            "반복(Epoch): 10, 손실 함수(Loss): 0.289971\n",
            "정확도(Accuracy): 0.942200\n",
            "반복(Epoch): 11, 손실 함수(Loss): 0.228113\n",
            "정확도(Accuracy): 0.941800\n",
            "반복(Epoch): 12, 손실 함수(Loss): 0.185002\n",
            "정확도(Accuracy): 0.944400\n",
            "반복(Epoch): 13, 손실 함수(Loss): 0.125430\n",
            "정확도(Accuracy): 0.943600\n",
            "반복(Epoch): 14, 손실 함수(Loss): 0.083599\n",
            "정확도(Accuracy): 0.944500\n",
            "반복(Epoch): 15, 손실 함수(Loss): 0.098090\n",
            "정확도(Accuracy): 0.947400\n",
            "반복(Epoch): 16, 손실 함수(Loss): 0.097499\n",
            "정확도(Accuracy): 0.948200\n",
            "반복(Epoch): 17, 손실 함수(Loss): 0.055273\n",
            "정확도(Accuracy): 0.947300\n",
            "반복(Epoch): 18, 손실 함수(Loss): 0.067893\n",
            "정확도(Accuracy): 0.948500\n",
            "반복(Epoch): 19, 손실 함수(Loss): 0.055374\n",
            "정확도(Accuracy): 0.949100\n",
            "반복(Epoch): 20, 손실 함수(Loss): 0.064208\n",
            "정확도(Accuracy): 0.948400\n",
            "반복(Epoch): 21, 손실 함수(Loss): 0.048793\n",
            "정확도(Accuracy): 0.950700\n",
            "반복(Epoch): 22, 손실 함수(Loss): 0.061743\n",
            "정확도(Accuracy): 0.949600\n",
            "반복(Epoch): 23, 손실 함수(Loss): 0.086241\n",
            "정확도(Accuracy): 0.947900\n",
            "반복(Epoch): 24, 손실 함수(Loss): 0.034974\n",
            "정확도(Accuracy): 0.951100\n",
            "반복(Epoch): 25, 손실 함수(Loss): 0.036560\n",
            "정확도(Accuracy): 0.953400\n",
            "반복(Epoch): 26, 손실 함수(Loss): 0.028445\n",
            "정확도(Accuracy): 0.953700\n",
            "반복(Epoch): 27, 손실 함수(Loss): 0.076337\n",
            "정확도(Accuracy): 0.950000\n",
            "반복(Epoch): 28, 손실 함수(Loss): 0.053723\n",
            "정확도(Accuracy): 0.952700\n",
            "반복(Epoch): 29, 손실 함수(Loss): 0.037551\n",
            "정확도(Accuracy): 0.951600\n",
            "반복(Epoch): 30, 손실 함수(Loss): 0.024578\n",
            "정확도(Accuracy): 0.955900\n"
          ]
        }
      ]
    },
    {
      "cell_type": "code",
      "source": [],
      "metadata": {
        "id": "9ASvMVdEuk7a"
      },
      "execution_count": null,
      "outputs": []
    }
  ]
}
