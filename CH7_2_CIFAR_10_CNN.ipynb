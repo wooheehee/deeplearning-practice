{
  "nbformat": 4,
  "nbformat_minor": 0,
  "metadata": {
    "colab": {
      "provenance": [],
      "authorship_tag": "ABX9TyODICw+gG7psAPdACMQvr2S",
      "include_colab_link": true
    },
    "kernelspec": {
      "name": "python3",
      "display_name": "Python 3"
    },
    "language_info": {
      "name": "python"
    },
    "accelerator": "GPU",
    "gpuClass": "standard"
  },
  "cells": [
    {
      "cell_type": "markdown",
      "metadata": {
        "id": "view-in-github",
        "colab_type": "text"
      },
      "source": [
        "<a href=\"https://colab.research.google.com/github/wooheehee/deeplearning-practice/blob/main/CH7_2_CIFAR_10_CNN.ipynb\" target=\"_parent\"><img src=\"https://colab.research.google.com/assets/colab-badge.svg\" alt=\"Open In Colab\"/></a>"
      ]
    },
    {
      "cell_type": "code",
      "execution_count": 1,
      "metadata": {
        "id": "OAyHdlPf8-9B"
      },
      "outputs": [],
      "source": [
        "import tensorflow as tf"
      ]
    },
    {
      "cell_type": "code",
      "source": [
        "(x_train, y_train), (x_test, y_test) = tf.keras.datasets.cifar10.load_data()\n",
        "x_train, x_test = x_train.astype('float32'), x_test.astype('float32')\n",
        "x_train, x_test = x_train / 255., x_test / 255.\n",
        "y_train_one_hot = tf.squeeze(tf.one_hot(y_train, 10), axis=1)\n",
        "y_test_one_hot = tf.squeeze(tf.one_hot(y_test, 10), axis=1)"
      ],
      "metadata": {
        "colab": {
          "base_uri": "https://localhost:8080/"
        },
        "id": "CzLdJ3fdFMb2",
        "outputId": "840ead7a-41a3-4d8d-e177-eb8ee37df2d2"
      },
      "execution_count": 2,
      "outputs": [
        {
          "output_type": "stream",
          "name": "stdout",
          "text": [
            "Downloading data from https://www.cs.toronto.edu/~kriz/cifar-10-python.tar.gz\n",
            "170498071/170498071 [==============================] - 14s 0us/step\n"
          ]
        }
      ]
    },
    {
      "cell_type": "code",
      "source": [
        "train_data = tf.data.Dataset.from_tensor_slices((x_train, y_train_one_hot))\n",
        "train_data = train_data.repeat().shuffle(50000).batch(128)\n",
        "train_data_iter = iter(train_data)\n",
        "\n",
        "test_data = tf.data.Dataset.from_tensor_slices((x_test, y_test_one_hot))\n",
        "test_data = test_data.batch(1000)\n",
        "test_data_iter = iter(test_data)"
      ],
      "metadata": {
        "id": "C2T-d6PRF7rT"
      },
      "execution_count": 3,
      "outputs": []
    },
    {
      "cell_type": "code",
      "source": [
        "class CNN(tf.keras.Model):\n",
        "  def __init__(self):\n",
        "    super(CNN, self).__init__()\n",
        "    self.conv_layer_1 = tf.keras.layers.Conv2D(filters=64, kernel_size=5, strides=1, padding='same', activation='relu')\n",
        "    self.pool_layer_1 = tf.keras.layers.MaxPool2D(pool_size=(3, 3), strides=2)\n",
        "    self.conv_layer_2 = tf.keras.layers.Conv2D(filters=64, kernel_size=5, strides=1, padding='same', activation='relu')\n",
        "    self.pool_layer_2 = tf.keras.layers.MaxPool2D(pool_size=(3, 3), strides=2)\n",
        "    self.conv_layer_3 = tf.keras.layers.Conv2D(filters=128, kernel_size=3, strides=1, padding='same', activation='relu')\n",
        "    self.conv_layer_4 = tf.keras.layers.Conv2D(filters=128, kernel_size=3, strides=1, padding='same', activation='relu')\n",
        "    self.conv_layer_5 = tf.keras.layers.Conv2D(filters=128, kernel_size=3, strides=1, padding='same', activation='relu')\n",
        "    self.flatten_layer = tf.keras.layers.Flatten()\n",
        "    self.fc_layer_1 = tf.keras.layers.Dense(384, activation='relu')\n",
        "    self.dropout = tf.keras.layers.Dropout(0.2)\n",
        "\n",
        "    self.output_layer = tf.keras.layers.Dense(10, activation = None)\n",
        "\n",
        "  def call(self, x, is_training):\n",
        "    h_conv1 = self.conv_layer_1(x)\n",
        "    h_pool1 = self.pool_layer_1(h_conv1)\n",
        "    h_conv2 = self.conv_layer_2(h_pool1)\n",
        "    h_pool2 = self.pool_layer_2(h_conv2)\n",
        "    h_conv3 = self.conv_layer_3(h_pool2)\n",
        "    h_conv4 = self.conv_layer_4(h_conv3)\n",
        "    h_conv5 = self.conv_layer_5(h_conv4)\n",
        "    h_conv5_flat = self.flatten_layer(h_conv5)\n",
        "    h_fc1 = self.fc_layer_1(h_conv5_flat)\n",
        "    h_fc1_drop = self.dropout(h_fc1, training=is_training)\n",
        "    logits = self.output_layer(h_fc1_drop)\n",
        "    y_pred = tf.nn.softmax(logits)\n",
        "\n",
        "    return y_pred, logits"
      ],
      "metadata": {
        "id": "q_UTo5QYGfxA"
      },
      "execution_count": 4,
      "outputs": []
    },
    {
      "cell_type": "code",
      "source": [
        "@tf.function\n",
        "def cross_entropy_loss(logits, y):\n",
        "  return tf.reduce_mean(tf.nn.softmax_cross_entropy_with_logits(logits=logits, labels=y))"
      ],
      "metadata": {
        "id": "R0nuc_9HIZoq"
      },
      "execution_count": 5,
      "outputs": []
    },
    {
      "cell_type": "code",
      "source": [
        "optimizer = tf.optimizers.RMSprop(1e-3)"
      ],
      "metadata": {
        "id": "94jMyBVpIrRD"
      },
      "execution_count": 6,
      "outputs": []
    },
    {
      "cell_type": "code",
      "source": [
        "@tf.function\n",
        "def train_step(model, x, y, is_training):\n",
        "  with tf.GradientTape() as tape:\n",
        "    y_pred, logits = model(x, is_training)\n",
        "    loss = cross_entropy_loss(logits, y)\n",
        "  gradients = tape.gradient(loss, model.trainable_variables)\n",
        "  optimizer.apply_gradients(zip(gradients, model.trainable_variables))"
      ],
      "metadata": {
        "id": "Q515ZTo3Iw-0"
      },
      "execution_count": 7,
      "outputs": []
    },
    {
      "cell_type": "code",
      "source": [
        "@tf.function \n",
        "def compute_accuracy(y_pred, y):\n",
        "  correct_prediction = tf.equal(tf.argmax(y_pred, 1), tf.argmax(y, 1))\n",
        "  accuracy = tf.reduce_mean(tf.cast(correct_prediction, tf.float32))\n",
        "\n",
        "  return accuracy"
      ],
      "metadata": {
        "id": "IRLOvuviJS84"
      },
      "execution_count": 8,
      "outputs": []
    },
    {
      "cell_type": "code",
      "source": [
        "CNN_model = CNN()"
      ],
      "metadata": {
        "id": "dWIz_pXRJr6D"
      },
      "execution_count": 9,
      "outputs": []
    },
    {
      "cell_type": "code",
      "source": [
        "for i in range(10000):\n",
        "  batch_x, batch_y = next(train_data_iter)\n",
        "\n",
        "  if i % 100 == 0:\n",
        "    train_accuracy = compute_accuracy(CNN_model(batch_x, False)[0], batch_y)\n",
        "    loss_print = cross_entropy_loss(CNN_model(batch_x, False)[1], batch_y)\n",
        "\n",
        "    print(\"반복(epoch): %d, 트레이닝 데이터 정확도: %f, 손실 함수(loss): %f\" % (i, train_accuracy, loss_print))\n",
        "  train_step(CNN_model, batch_x, batch_y, True)"
      ],
      "metadata": {
        "colab": {
          "base_uri": "https://localhost:8080/"
        },
        "id": "CM1YQWPfJuO1",
        "outputId": "dd6b4ac0-b283-4957-c7de-543fb40b522d"
      },
      "execution_count": 10,
      "outputs": [
        {
          "output_type": "stream",
          "name": "stdout",
          "text": [
            "반복(epoch): 0, 트레이닝 데이터 정확도: 0.132812, 손실 함수(loss): 2.299867\n",
            "반복(epoch): 100, 트레이닝 데이터 정확도: 0.250000, 손실 함수(loss): 2.093039\n",
            "반복(epoch): 200, 트레이닝 데이터 정확도: 0.296875, 손실 함수(loss): 1.971402\n",
            "반복(epoch): 300, 트레이닝 데이터 정확도: 0.375000, 손실 함수(loss): 1.598228\n",
            "반복(epoch): 400, 트레이닝 데이터 정확도: 0.375000, 손실 함수(loss): 1.644775\n",
            "반복(epoch): 500, 트레이닝 데이터 정확도: 0.484375, 손실 함수(loss): 1.411635\n",
            "반복(epoch): 600, 트레이닝 데이터 정확도: 0.570312, 손실 함수(loss): 1.215080\n",
            "반복(epoch): 700, 트레이닝 데이터 정확도: 0.453125, 손실 함수(loss): 1.433667\n",
            "반복(epoch): 800, 트레이닝 데이터 정확도: 0.648438, 손실 함수(loss): 1.020853\n",
            "반복(epoch): 900, 트레이닝 데이터 정확도: 0.554688, 손실 함수(loss): 1.509879\n",
            "반복(epoch): 1000, 트레이닝 데이터 정확도: 0.617188, 손실 함수(loss): 1.147785\n",
            "반복(epoch): 1100, 트레이닝 데이터 정확도: 0.632812, 손실 함수(loss): 1.163993\n",
            "반복(epoch): 1200, 트레이닝 데이터 정확도: 0.609375, 손실 함수(loss): 0.978572\n",
            "반복(epoch): 1300, 트레이닝 데이터 정확도: 0.593750, 손실 함수(loss): 0.992425\n",
            "반복(epoch): 1400, 트레이닝 데이터 정확도: 0.695312, 손실 함수(loss): 0.776913\n",
            "반복(epoch): 1500, 트레이닝 데이터 정확도: 0.703125, 손실 함수(loss): 0.840804\n",
            "반복(epoch): 1600, 트레이닝 데이터 정확도: 0.679688, 손실 함수(loss): 1.069941\n",
            "반복(epoch): 1700, 트레이닝 데이터 정확도: 0.765625, 손실 함수(loss): 0.727572\n",
            "반복(epoch): 1800, 트레이닝 데이터 정확도: 0.742188, 손실 함수(loss): 0.677039\n",
            "반복(epoch): 1900, 트레이닝 데이터 정확도: 0.718750, 손실 함수(loss): 0.846559\n",
            "반복(epoch): 2000, 트레이닝 데이터 정확도: 0.750000, 손실 함수(loss): 0.696707\n",
            "반복(epoch): 2100, 트레이닝 데이터 정확도: 0.734375, 손실 함수(loss): 0.748990\n",
            "반복(epoch): 2200, 트레이닝 데이터 정확도: 0.835938, 손실 함수(loss): 0.490287\n",
            "반복(epoch): 2300, 트레이닝 데이터 정확도: 0.718750, 손실 함수(loss): 0.612032\n",
            "반복(epoch): 2400, 트레이닝 데이터 정확도: 0.820312, 손실 함수(loss): 0.619745\n",
            "반복(epoch): 2500, 트레이닝 데이터 정확도: 0.757812, 손실 함수(loss): 0.705008\n",
            "반복(epoch): 2600, 트레이닝 데이터 정확도: 0.835938, 손실 함수(loss): 0.532945\n",
            "반복(epoch): 2700, 트레이닝 데이터 정확도: 0.726562, 손실 함수(loss): 0.748936\n",
            "반복(epoch): 2800, 트레이닝 데이터 정확도: 0.773438, 손실 함수(loss): 0.583278\n",
            "반복(epoch): 2900, 트레이닝 데이터 정확도: 0.820312, 손실 함수(loss): 0.460664\n",
            "반복(epoch): 3000, 트레이닝 데이터 정확도: 0.843750, 손실 함수(loss): 0.450706\n",
            "반복(epoch): 3100, 트레이닝 데이터 정확도: 0.757812, 손실 함수(loss): 0.708159\n",
            "반복(epoch): 3200, 트레이닝 데이터 정확도: 0.757812, 손실 함수(loss): 0.577446\n",
            "반복(epoch): 3300, 트레이닝 데이터 정확도: 0.843750, 손실 함수(loss): 0.389750\n",
            "반복(epoch): 3400, 트레이닝 데이터 정확도: 0.867188, 손실 함수(loss): 0.430928\n",
            "반복(epoch): 3500, 트레이닝 데이터 정확도: 0.812500, 손실 함수(loss): 0.468493\n",
            "반복(epoch): 3600, 트레이닝 데이터 정확도: 0.859375, 손실 함수(loss): 0.377531\n",
            "반복(epoch): 3700, 트레이닝 데이터 정확도: 0.750000, 손실 함수(loss): 0.776070\n",
            "반복(epoch): 3800, 트레이닝 데이터 정확도: 0.921875, 손실 함수(loss): 0.303295\n",
            "반복(epoch): 3900, 트레이닝 데이터 정확도: 0.781250, 손실 함수(loss): 0.567417\n",
            "반복(epoch): 4000, 트레이닝 데이터 정확도: 0.851562, 손실 함수(loss): 0.328512\n",
            "반복(epoch): 4100, 트레이닝 데이터 정확도: 0.812500, 손실 함수(loss): 0.499735\n",
            "반복(epoch): 4200, 트레이닝 데이터 정확도: 0.804688, 손실 함수(loss): 0.636164\n",
            "반복(epoch): 4300, 트레이닝 데이터 정확도: 0.906250, 손실 함수(loss): 0.368356\n",
            "반복(epoch): 4400, 트레이닝 데이터 정확도: 0.882812, 손실 함수(loss): 0.430047\n",
            "반복(epoch): 4500, 트레이닝 데이터 정확도: 0.914062, 손실 함수(loss): 0.310329\n",
            "반복(epoch): 4600, 트레이닝 데이터 정확도: 0.875000, 손실 함수(loss): 0.311564\n",
            "반복(epoch): 4700, 트레이닝 데이터 정확도: 0.906250, 손실 함수(loss): 0.267167\n",
            "반복(epoch): 4800, 트레이닝 데이터 정확도: 0.929688, 손실 함수(loss): 0.218139\n",
            "반복(epoch): 4900, 트레이닝 데이터 정확도: 0.804688, 손실 함수(loss): 0.602399\n",
            "반복(epoch): 5000, 트레이닝 데이터 정확도: 0.859375, 손실 함수(loss): 0.356101\n",
            "반복(epoch): 5100, 트레이닝 데이터 정확도: 0.898438, 손실 함수(loss): 0.324078\n",
            "반복(epoch): 5200, 트레이닝 데이터 정확도: 0.945312, 손실 함수(loss): 0.223405\n",
            "반복(epoch): 5300, 트레이닝 데이터 정확도: 0.914062, 손실 함수(loss): 0.293956\n",
            "반복(epoch): 5400, 트레이닝 데이터 정확도: 0.929688, 손실 함수(loss): 0.232409\n",
            "반복(epoch): 5500, 트레이닝 데이터 정확도: 0.906250, 손실 함수(loss): 0.441229\n",
            "반복(epoch): 5600, 트레이닝 데이터 정확도: 0.921875, 손실 함수(loss): 0.184849\n",
            "반복(epoch): 5700, 트레이닝 데이터 정확도: 0.898438, 손실 함수(loss): 0.315613\n",
            "반복(epoch): 5800, 트레이닝 데이터 정확도: 0.882812, 손실 함수(loss): 0.264831\n",
            "반복(epoch): 5900, 트레이닝 데이터 정확도: 0.898438, 손실 함수(loss): 0.264781\n",
            "반복(epoch): 6000, 트레이닝 데이터 정확도: 0.812500, 손실 함수(loss): 0.534788\n",
            "반복(epoch): 6100, 트레이닝 데이터 정확도: 0.882812, 손실 함수(loss): 0.500109\n",
            "반복(epoch): 6200, 트레이닝 데이터 정확도: 0.851562, 손실 함수(loss): 0.324041\n",
            "반복(epoch): 6300, 트레이닝 데이터 정확도: 0.929688, 손실 함수(loss): 0.185728\n",
            "반복(epoch): 6400, 트레이닝 데이터 정확도: 0.906250, 손실 함수(loss): 0.212457\n",
            "반복(epoch): 6500, 트레이닝 데이터 정확도: 0.914062, 손실 함수(loss): 0.270168\n",
            "반복(epoch): 6600, 트레이닝 데이터 정확도: 0.898438, 손실 함수(loss): 0.379187\n",
            "반복(epoch): 6700, 트레이닝 데이터 정확도: 0.859375, 손실 함수(loss): 0.497906\n",
            "반복(epoch): 6800, 트레이닝 데이터 정확도: 0.906250, 손실 함수(loss): 0.292307\n",
            "반복(epoch): 6900, 트레이닝 데이터 정확도: 0.914062, 손실 함수(loss): 0.206203\n",
            "반복(epoch): 7000, 트레이닝 데이터 정확도: 0.937500, 손실 함수(loss): 0.206149\n",
            "반복(epoch): 7100, 트레이닝 데이터 정확도: 0.898438, 손실 함수(loss): 0.373055\n",
            "반복(epoch): 7200, 트레이닝 데이터 정확도: 0.914062, 손실 함수(loss): 0.325878\n",
            "반복(epoch): 7300, 트레이닝 데이터 정확도: 0.906250, 손실 함수(loss): 0.324731\n",
            "반복(epoch): 7400, 트레이닝 데이터 정확도: 0.937500, 손실 함수(loss): 0.178741\n",
            "반복(epoch): 7500, 트레이닝 데이터 정확도: 0.742188, 손실 함수(loss): 0.768079\n",
            "반복(epoch): 7600, 트레이닝 데이터 정확도: 0.960938, 손실 함수(loss): 0.206477\n",
            "반복(epoch): 7700, 트레이닝 데이터 정확도: 0.914062, 손실 함수(loss): 0.212791\n",
            "반복(epoch): 7800, 트레이닝 데이터 정확도: 0.859375, 손실 함수(loss): 0.466635\n",
            "반복(epoch): 7900, 트레이닝 데이터 정확도: 0.906250, 손실 함수(loss): 0.301138\n",
            "반복(epoch): 8000, 트레이닝 데이터 정확도: 0.929688, 손실 함수(loss): 0.215104\n",
            "반복(epoch): 8100, 트레이닝 데이터 정확도: 0.890625, 손실 함수(loss): 0.386498\n",
            "반복(epoch): 8200, 트레이닝 데이터 정확도: 0.890625, 손실 함수(loss): 0.427040\n",
            "반복(epoch): 8300, 트레이닝 데이터 정확도: 0.804688, 손실 함수(loss): 0.570878\n",
            "반복(epoch): 8400, 트레이닝 데이터 정확도: 0.875000, 손실 함수(loss): 0.641392\n",
            "반복(epoch): 8500, 트레이닝 데이터 정확도: 0.898438, 손실 함수(loss): 0.382238\n",
            "반복(epoch): 8600, 트레이닝 데이터 정확도: 0.859375, 손실 함수(loss): 0.382120\n",
            "반복(epoch): 8700, 트레이닝 데이터 정확도: 0.820312, 손실 함수(loss): 0.508874\n",
            "반복(epoch): 8800, 트레이닝 데이터 정확도: 0.875000, 손실 함수(loss): 0.366282\n",
            "반복(epoch): 8900, 트레이닝 데이터 정확도: 0.851562, 손실 함수(loss): 0.494083\n",
            "반복(epoch): 9000, 트레이닝 데이터 정확도: 0.882812, 손실 함수(loss): 0.324198\n",
            "반복(epoch): 9100, 트레이닝 데이터 정확도: 0.890625, 손실 함수(loss): 0.460732\n",
            "반복(epoch): 9200, 트레이닝 데이터 정확도: 0.914062, 손실 함수(loss): 0.296139\n",
            "반복(epoch): 9300, 트레이닝 데이터 정확도: 0.710938, 손실 함수(loss): 0.957470\n",
            "반복(epoch): 9400, 트레이닝 데이터 정확도: 0.859375, 손실 함수(loss): 0.378949\n",
            "반복(epoch): 9500, 트레이닝 데이터 정확도: 0.781250, 손실 함수(loss): 0.647381\n",
            "반복(epoch): 9600, 트레이닝 데이터 정확도: 0.882812, 손실 함수(loss): 0.405516\n",
            "반복(epoch): 9700, 트레이닝 데이터 정확도: 0.890625, 손실 함수(loss): 0.661516\n",
            "반복(epoch): 9800, 트레이닝 데이터 정확도: 0.859375, 손실 함수(loss): 0.419567\n",
            "반복(epoch): 9900, 트레이닝 데이터 정확도: 0.804688, 손실 함수(loss): 0.614268\n"
          ]
        }
      ]
    },
    {
      "cell_type": "code",
      "source": [
        "test_accuracy = 0.0\n",
        "\n",
        "for i in range(10):\n",
        "  test_batch_x, test_batch_y = next(test_data_iter)\n",
        "  test_accuracy = test_accuracy + compute_accuracy(CNN_model(test_batch_x, False)[0], test_batch_y).numpy()\n",
        "test_accuracy = test_accuracy / 10\n",
        "print(\"테스트 데이터 정확도: %f\" % test_accuracy)"
      ],
      "metadata": {
        "colab": {
          "base_uri": "https://localhost:8080/"
        },
        "id": "dkgQgGMXKj9a",
        "outputId": "444e4d1e-8616-41b3-ffd1-889c4af9c78c"
      },
      "execution_count": 11,
      "outputs": [
        {
          "output_type": "stream",
          "name": "stdout",
          "text": [
            "테스트 데이터 정확도: 0.693800\n"
          ]
        }
      ]
    }
  ]
}